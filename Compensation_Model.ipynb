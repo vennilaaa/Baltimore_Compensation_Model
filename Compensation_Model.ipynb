{
 "cells": [
  {
   "cell_type": "code",
   "execution_count": 23,
   "metadata": {},
   "outputs": [],
   "source": [
    "import pandas as pd\n",
    "import numpy as np\n",
    "import matplotlib.pyplot as plt\n",
    "import statsmodels.api as sm\n",
    "from scipy.optimize import minimize\n",
    "from sklearn.model_selection import cross_val_score\n",
    "import seaborn as sns\n"
   ]
  },
  {
   "cell_type": "code",
   "execution_count": 24,
   "metadata": {},
   "outputs": [],
   "source": [
    "#importing datasets\n",
    "job_profile = pd.read_csv(\"/Users/vennilaannamalai/Downloads/City_of_Baltimore_-_Compensation_Grade_-_with_Job_Profile.csv\", header = None)\n",
    "job_profile_summary = pd.read_csv(\"/Users/vennilaannamalai/Downloads/City_of_Baltimore_-_Job_Profile_Summary.csv\")\n",
    "positions = pd.read_csv(\"/Users/vennilaannamalai/Downloads/Positions as of 2023-07-01.csv\")\n",
    "all_years_vacancies = pd.read_csv(\"/Users/vennilaannamalai/Downloads/all_years_vacancies.csv\")\n",
    "vacant_funded = pd.read_csv(\"/Users/vennilaannamalai/Downloads/Vacancies by PIN FY19-FY23.csv\")\n",
    "vacancy_summary = pd.read_csv(\"/Users/vennilaannamalai/Downloads/vacancy_summary.csv\")\n",
    "unfunded = pd.read_csv(\"/Users/vennilaannamalai/Downloads/unfunded.csv\")"
   ]
  },
  {
   "cell_type": "code",
   "execution_count": 25,
   "metadata": {},
   "outputs": [],
   "source": [
    "#Cleaning up job_profile data frame\n",
    "jp_columns = [\"Compensation Grade\", \"Reference ID\", \"Salary Admin Plan\", \"Inactive\", \"Number of Segments\", \"Base Pay Elements\", \"Pay Range Frequency\", \"Pay Minimum\", \"Pay Midpoint\", \"Pay Max\", \"Compensation Steps\", \"Step Name\", \"Amount\", \"Sequence\", \"Interval\", \"Period\"]\n",
    "job_profile.columns = jp_columns\n",
    "job_profile = job_profile.drop([0, 1]).reset_index(drop=True)"
   ]
  },
  {
   "cell_type": "code",
   "execution_count": 26,
   "metadata": {},
   "outputs": [
    {
     "data": {
      "text/plain": [
       "Index(['Position ID', 'FY24 Adopted Status', 'Workday Fund ID',\n",
       "       'Classification ID', 'Classification Name', 'Union ID', 'Union Name',\n",
       "       'Agency ID', 'Agency Name', 'Service ID', 'Service Name', 'Activity ID',\n",
       "       'Activity Name', 'Fund ID', 'Fund Name', 'Detailed Fund ID',\n",
       "       'Detailed Fund Name', 'Special Indicator ID', 'Special Indicator Name',\n",
       "       'Budgeted Salary', 'Total Budgeted Cost', 'Position Grade', 'Time Type',\n",
       "       'Position Type', 'Position Job Code', 'Position Job Profile',\n",
       "       'Workday Agency', 'Workday Cost Center', 'Workday Fund',\n",
       "       'Classification Name', 'Avg Months Vacant', 'Avg Pct Vacant', '# PINs',\n",
       "       'Range Minimum', 'Range Maximum', 'Agency Name', 'Service Name',\n",
       "       'Funded General Fund Positions', '2023-07-01 Vacant - Positions',\n",
       "       '2023-07-01 Vacant - Salary', '2023-07-01 Vacant - Total Cost'],\n",
       "      dtype='object')"
      ]
     },
     "execution_count": 26,
     "metadata": {},
     "output_type": "execute_result"
    }
   ],
   "source": [
    "#Cleaning data and merging dataframes together\n",
    "vacancy_positions_funded = positions.merge(vacant_funded, on = \"Classification ID\")\n",
    "all_data = vacancy_positions_funded.merge(vacancy_summary, on = \"Service ID\")\n",
    "all_data.drop(['Classification Name_x', \"Agency Name_x\", \"Service Name_x\", 'Status 2023-07-01'], axis = 1)\n",
    "\n",
    "#getting rid of duplicated column names and getting rid of _x and _y\n",
    "all_data = all_data.loc[:, ~all_data.columns.duplicated()]\n",
    "all_data.rename(columns=lambda x: x.replace('_y', ''), inplace=True)\n",
    "all_data.rename(columns=lambda x: x.replace('_x', ''), inplace=True)\n",
    "\n",
    "#Filtering out any positions that are not funded\n",
    "\n",
    "data = all_data[all_data[\"FY24 Adopted Status\"] == \"Funded\"]\n",
    "data = data.drop(['Worker', 'Budgeted OPC', 'Actual Annual Rate', 'Status 2023-07-01', '2023-07-01 Vacant - OPC'], axis = 1)\n",
    "data.columns\n"
   ]
  },
  {
   "cell_type": "code",
   "execution_count": 43,
   "metadata": {},
   "outputs": [],
   "source": [
    "#generating summary statistics grouped by position grade\n",
    "#position_grade_distribution = data.groupby(['Position Grade']).agg(['mean', 'median', 'std'])\n",
    "#position_grade_distribution = position_grade_distribution[['Avg Months Vacant', '2023-07-01 Vacant - Positions']]"
   ]
  },
  {
   "cell_type": "code",
   "execution_count": 44,
   "metadata": {},
   "outputs": [],
   "source": [
    "#general summary statistics on these three columns\n",
    "#stats = data.describe(include='all')\n",
    "#stats = stats[['Total Budgeted Cost', 'Avg Months Vacant', '2023-07-01 Vacant - Positions']]"
   ]
  },
  {
   "cell_type": "code",
   "execution_count": 45,
   "metadata": {},
   "outputs": [],
   "source": [
    "#classification_distribution = data.groupby(['Classification ID']).agg(['mean', 'median', 'std'])\n",
    "#classification_distribution = classification_distribution[['Avg Months Vacant', '2023-07-01 Vacant - Positions']]"
   ]
  },
  {
   "cell_type": "code",
   "execution_count": 30,
   "metadata": {},
   "outputs": [],
   "source": [
    "#saving summary stats and cleaned data table as excel files to my laptop\n",
    "position_grade_distribution.to_excel(\"/Users/vennilaannamalai/Downloads/Months\\position_grade_stats.xlsx\")\n",
    "classification_distribution.to_excel(\"/Users/vennilaannamalai/Downloads/Months\\classification_distribution_stats.xlsx\")\n",
    "stats.to_excel(\"/Users/vennilaannamalai/Downloads/Months\\general_stats.xlsx\")\n",
    "data.to_excel(\"/Users/vennilaannamalai/Downloads/Months\\data.xlsx\", index = False)\n"
   ]
  },
  {
   "cell_type": "code",
   "execution_count": 31,
   "metadata": {},
   "outputs": [
    {
     "data": {
      "text/plain": [
       "'def create_histogram(data_frame, column_name, bins=100, color=\\'skyblue\\', edgecolor=\\'black\\'):\\n\\n    if column_name not in data_frame.columns:\\n        print(f\"Error: Column \\'{column_name}\\' not found in the DataFrame.\")\\n        return\\n    \\n    plt.hist(data_frame[column_name], bins=bins, color=color, edgecolor=edgecolor)\\n\\n    plt.xlabel(column_name)\\n    plt.ylabel(\\'Frequency\\')\\n    plt.title(f\\'Histogram of {column_name}\\')\\n\\n    plt.show()\\n\\ncontinuous_variables = [\"Avg Months Vacant\", \"2023-07-01 Vacant - Positions\", \\'Funded General Fund Positions\\']\\nfor i in range(len(continuous_variables)):\\n    create_histogram(data, continuous_variables[i])'"
      ]
     },
     "execution_count": 31,
     "metadata": {},
     "output_type": "execute_result"
    }
   ],
   "source": [
    "'''def create_histogram(data_frame, column_name, bins=100, color='skyblue', edgecolor='black'):\n",
    "\n",
    "    if column_name not in data_frame.columns:\n",
    "        print(f\"Error: Column '{column_name}' not found in the DataFrame.\")\n",
    "        return\n",
    "    \n",
    "    plt.hist(data_frame[column_name], bins=bins, color=color, edgecolor=edgecolor)\n",
    "\n",
    "    plt.xlabel(column_name)\n",
    "    plt.ylabel('Frequency')\n",
    "    plt.title(f'Histogram of {column_name}')\n",
    "\n",
    "    plt.show()\n",
    "\n",
    "continuous_variables = [\"Avg Months Vacant\", \"2023-07-01 Vacant - Positions\", 'Funded General Fund Positions']\n",
    "for i in range(len(continuous_variables)):\n",
    "    create_histogram(data, continuous_variables[i])'''"
   ]
  },
  {
   "cell_type": "code",
   "execution_count": 32,
   "metadata": {},
   "outputs": [
    {
     "name": "stderr",
     "output_type": "stream",
     "text": [
      "/var/folders/tn/sxbtn1vd4wn36lp4dl01fsdm0000gp/T/ipykernel_10196/749191727.py:3: FutureWarning: The default value of numeric_only in DataFrame.corr is deprecated. In a future version, it will default to False. Select only valid columns or specify the value of numeric_only to silence this warning.\n",
      "  correlation_matrix = cleaned_data .corr()\n"
     ]
    }
   ],
   "source": [
    "#checking for any strong correlations to brainstorm what to do for future analysis\n",
    "cleaned_data = data[[\"Classification ID\", \"Activity ID\", \"Budgeted Salary\", \"Total Budgeted Cost\", \"Position Grade\"]]\n",
    "correlation_matrix = cleaned_data .corr()"
   ]
  },
  {
   "cell_type": "markdown",
   "metadata": {},
   "source": [
    "Maxing out salaries"
   ]
  },
  {
   "cell_type": "code",
   "execution_count": 33,
   "metadata": {},
   "outputs": [
    {
     "name": "stdout",
     "output_type": "stream",
     "text": [
      "No valid data for Position Grade nan\n"
     ]
    }
   ],
   "source": [
    "data['Budgeted Salary'] = data['Budgeted Salary'].replace({',': ''}, regex=True).astype(int)\n",
    "data['Total Budgeted Cost'] = data['Total Budgeted Cost'].replace({',': ''}, regex=True).astype(int)\n",
    "\n",
    "X = data[['Activity ID', 'Position Grade', 'Avg Months Vacant']]\n",
    "Y = data[[\"Budgeted Salary\"]]\n",
    "\n",
    "\n",
    "def budget_constraint(salary, *args):\n",
    "    total_budgeted_cost = args[0]\n",
    "    return salary - total_budgeted_cost\n",
    "\n",
    "\n",
    "def optimize(salary, *args):\n",
    "    actual_salary, total_budgeted_cost = args\n",
    "    predicted_salary = salary\n",
    "    return np.sum(np.abs(predicted_salary - actual_salary))\n",
    "\n",
    "\n",
    "optimized_salaries = {}\n",
    "\n",
    "\n",
    "for position_grade in data['Position Grade'].unique():\n",
    "    \n",
    "    X_grade = X[data['Position Grade'] == position_grade]\n",
    "    Y_grade = Y[data['Position Grade'] == position_grade]\n",
    "    total_budgeted_cost_grade = data.loc[data['Position Grade'] == position_grade, 'Total Budgeted Cost']\n",
    "\n",
    "    \n",
    "    if not total_budgeted_cost_grade.empty:\n",
    "        total_budgeted_cost_grade = total_budgeted_cost_grade.iloc[0]\n",
    "\n",
    "        initial_guess = Y_grade.mean()\n",
    "\n",
    "        constraint = {'type': 'ineq', 'fun': budget_constraint, 'args': (total_budgeted_cost_grade,)}\n",
    "\n",
    "        result = minimize(optimize, initial_guess, args=(Y_grade, total_budgeted_cost_grade), constraints=constraint)\n",
    "\n",
    "        optimized_salary = result.x[0]\n",
    "\n",
    "        optimized_salaries[position_grade] = optimized_salary\n",
    "    else:\n",
    "        print(f\"No valid data for Position Grade {position_grade}\")\n",
    "\n",
    "#print(\"Optimized Salaries:\")\n",
    "#for position_grade, optimized_salary in optimized_salaries.items():\n",
    "    #print(f\"Position Grade {position_grade}: {optimized_salary}\")\n",
    "pgs_max = []\n",
    "position_grade_salaries = pd.DataFrame()\n",
    "\n",
    "for position_grade, optimized_salary in optimized_salaries.items():\n",
    "    optimized_salary = optimized_salary.round()\n",
    "    pgs_max.append(f\"Position Grade {position_grade}: {optimized_salary}\")\n",
    "position_grade_salaries[\"Optimized Salaries\"] = pgs_max\n",
    "position_grade_salaries.to_excel(\"/Users/vennilaannamalai/Downloads/position_grade_salaries_max.xlsx\")"
   ]
  },
  {
   "cell_type": "code",
   "execution_count": null,
   "metadata": {},
   "outputs": [],
   "source": []
  },
  {
   "cell_type": "code",
   "execution_count": 34,
   "metadata": {},
   "outputs": [
    {
     "name": "stdout",
     "output_type": "stream",
     "text": [
      "No valid data for Position Grade nan\n"
     ]
    }
   ],
   "source": [
    "data['Budgeted Salary'] = data['Budgeted Salary'].replace({',': ''}, regex=True).astype(int)\n",
    "data['Range Minimum'] = data['Range Minimum'].replace({',': ''}, regex=True).fillna(0).astype(int)\n",
    "data['Range Maximum'] = data['Range Maximum'].replace({',': ''}, regex=True).fillna(0).astype(int)\n",
    "\n",
    "X = data[['Activity ID', 'Position Grade', 'Avg Months Vacant']]\n",
    "Y = data[[\"Budgeted Salary\"]]\n",
    "\n",
    "\n",
    "def optimize_and_normalize(salaries, min_salary, max_salary):\n",
    "    normalized_salaries = np.clip(salaries, min_salary, max_salary)\n",
    "    return np.sum(np.abs(normalized_salaries - salaries))\n",
    "\n",
    "\n",
    "normalized_salaries_list = []\n",
    "just_salaries = []\n",
    "\n",
    "for position_grade in data['Position Grade'].unique():\n",
    "    \n",
    "    Y_grade = Y[data['Position Grade'] == position_grade]\n",
    "\n",
    "    if not Y_grade.empty:\n",
    "        min_salary_grade = data.loc[data['Position Grade'] == position_grade, 'Range Minimum'].iloc[0]  \n",
    "        max_salary_grade = data.loc[data['Position Grade'] == position_grade, 'Range Maximum'].iloc[0]  \n",
    "\n",
    "        min_salary_grade = float(min_salary_grade)\n",
    "        max_salary_grade = float(max_salary_grade)\n",
    "\n",
    "        initial_guess = Y_grade.mean()\n",
    "\n",
    "        result = minimize(optimize_and_normalize, initial_guess, args=(min_salary_grade, max_salary_grade))\n",
    "\n",
    "        normalized_salary = np.clip(result.x[0], min_salary_grade, max_salary_grade)\n",
    "        normalized_salaries_list.append(f\"Position Grade {position_grade}: {normalized_salary:.2f}\")\n",
    "        just_salaries.append(normalized_salary)\n",
    "\n",
    "    else:\n",
    "        print(f\"No valid data for Position Grade {position_grade}\")"
   ]
  },
  {
   "cell_type": "code",
   "execution_count": 35,
   "metadata": {},
   "outputs": [
    {
     "data": {
      "text/plain": [
       "True"
      ]
     },
     "execution_count": 35,
     "metadata": {},
     "output_type": "execute_result"
    }
   ],
   "source": [
    "og_budgeted_salary = data.groupby(\"Position Grade\")[\"Budgeted Salary\"].agg(np.mean)\n",
    "len(og_budgeted_salary) == len(normalized_salaries_list)"
   ]
  },
  {
   "cell_type": "code",
   "execution_count": 36,
   "metadata": {},
   "outputs": [
    {
     "data": {
      "image/png": "[encoded data removed]",
      "text/plain": [
       "<Figure size 1000x600 with 1 Axes>"
      ]
     },
     "metadata": {},
     "output_type": "display_data"
    }
   ],
   "source": [
    "optimized_salaries_values = [float(s.split(\":\")[1]) for s in pgs_max]\n",
    "normalized_salaries_values = [float(s.split(\":\")[1]) for s in normalized_salaries_list]\n",
    "#og_budgeted_salary_values = [float(s.split(\":\")[1]) for s in og_budgeted_salary]\n",
    "\n",
    "plt.figure(figsize=(10, 6))\n",
    "\n",
    "plt.hist(optimized_salaries_values, bins=15, alpha=0.5, label='Optimized Salaries')\n",
    "plt.hist(normalized_salaries_values, bins=15, alpha=0.5, label='Normalized Salaries')\n",
    "plt.hist(og_budgeted_salary, bins=15, alpha=0.5, label='Original Salaries')\n",
    "\n",
    "plt.xlabel('Salary')\n",
    "plt.ylabel('Frequency')\n",
    "plt.title('Distribution of Optimized, Original, and Normalized Salaries')\n",
    "plt.legend()\n",
    "\n",
    "plt.ticklabel_format(style='plain', axis='y')\n",
    "\n",
    "plt.show()"
   ]
  },
  {
   "cell_type": "code",
   "execution_count": 37,
   "metadata": {},
   "outputs": [],
   "source": [
    "data['Budgeted Salary'] = data['Budgeted Salary'].replace({',': ''}, regex=True).astype(int)\n",
    "data['Total Budgeted Cost'] = data['Total Budgeted Cost'].replace({',': ''}, regex=True).astype(int)\n",
    "\n",
    "X = data[['Activity ID', 'Classification ID']]\n",
    "\n",
    "optimized_salaries_c = {}\n",
    "\n",
    "\n",
    "for classification in data['Classification ID'].unique():\n",
    "    \n",
    "    X_grade = X[data['Classification ID'] == classification]\n",
    "    Y_grade = Y[data['Classification ID'] == classification]\n",
    "    total_budgeted_cost_grade = data.loc[data['Classification ID'] == classification, 'Total Budgeted Cost']\n",
    "\n",
    "    \n",
    "    if not total_budgeted_cost_grade.empty:\n",
    "        total_budgeted_cost_grade = total_budgeted_cost_grade.iloc[0]\n",
    "\n",
    "        initial_guess = Y_grade.mean()\n",
    "\n",
    "        constraint = {'type': 'ineq', 'fun': budget_constraint, 'args': (total_budgeted_cost_grade,)}\n",
    "\n",
    "        result = minimize(optimize, initial_guess, args=(Y_grade, total_budgeted_cost_grade), constraints=constraint)\n",
    "\n",
    "        optimized_salary = result.x[0]\n",
    "\n",
    "        optimized_salaries_c[classification] = optimized_salary\n",
    "    else:\n",
    "        print(f\"No valid data for Position Grade {position_grade}\")\n",
    "\n",
    "classification_list = []\n",
    "classification_salaries = pd.DataFrame()\n",
    "\n",
    "for classification, optimized_salary in optimized_salaries_c.items():\n",
    "    optimized_salary = optimized_salary.round()\n",
    "    classification_list.append(f\"Classification ID {classification}: {optimized_salary}\")\n",
    "classification_salaries[\"Optimized Salaries\"] = classification_list\n",
    "classification_salaries.to_excel(\"/Users/vennilaannamalai/Downloads/classification_salaries.xlsx\")"
   ]
  },
  {
   "cell_type": "code",
   "execution_count": 38,
   "metadata": {},
   "outputs": [
    {
     "data": {
      "text/html": [
       "<div>\n",
       "<style scoped>\n",
       "    .dataframe tbody tr th:only-of-type {\n",
       "        vertical-align: middle;\n",
       "    }\n",
       "\n",
       "    .dataframe tbody tr th {\n",
       "        vertical-align: top;\n",
       "    }\n",
       "\n",
       "    .dataframe thead th {\n",
       "        text-align: right;\n",
       "    }\n",
       "</style>\n",
       "<table border=\"1\" class=\"dataframe\">\n",
       "  <thead>\n",
       "    <tr style=\"text-align: right;\">\n",
       "      <th></th>\n",
       "      <th>Position Grade</th>\n",
       "      <th>Budgeted Salary</th>\n",
       "    </tr>\n",
       "  </thead>\n",
       "  <tbody>\n",
       "    <tr>\n",
       "      <th>0</th>\n",
       "      <td>030</td>\n",
       "      <td>54281.000000</td>\n",
       "    </tr>\n",
       "    <tr>\n",
       "      <th>1</th>\n",
       "      <td>040</td>\n",
       "      <td>48609.000000</td>\n",
       "    </tr>\n",
       "    <tr>\n",
       "      <th>2</th>\n",
       "      <td>041</td>\n",
       "      <td>49813.846154</td>\n",
       "    </tr>\n",
       "    <tr>\n",
       "      <th>3</th>\n",
       "      <td>042</td>\n",
       "      <td>51630.750000</td>\n",
       "    </tr>\n",
       "    <tr>\n",
       "      <th>4</th>\n",
       "      <td>047</td>\n",
       "      <td>78955.000000</td>\n",
       "    </tr>\n",
       "    <tr>\n",
       "      <th>...</th>\n",
       "      <td>...</td>\n",
       "      <td>...</td>\n",
       "    </tr>\n",
       "    <tr>\n",
       "      <th>167</th>\n",
       "      <td>992</td>\n",
       "      <td>219944.750000</td>\n",
       "    </tr>\n",
       "    <tr>\n",
       "      <th>168</th>\n",
       "      <td>993</td>\n",
       "      <td>214095.000000</td>\n",
       "    </tr>\n",
       "    <tr>\n",
       "      <th>169</th>\n",
       "      <td>994</td>\n",
       "      <td>192890.000000</td>\n",
       "    </tr>\n",
       "    <tr>\n",
       "      <th>170</th>\n",
       "      <td>995</td>\n",
       "      <td>267903.000000</td>\n",
       "    </tr>\n",
       "    <tr>\n",
       "      <th>171</th>\n",
       "      <td>99P</td>\n",
       "      <td>296167.000000</td>\n",
       "    </tr>\n",
       "  </tbody>\n",
       "</table>\n",
       "<p>172 rows × 2 columns</p>\n",
       "</div>"
      ],
      "text/plain": [
       "    Position Grade  Budgeted Salary\n",
       "0              030     54281.000000\n",
       "1              040     48609.000000\n",
       "2              041     49813.846154\n",
       "3              042     51630.750000\n",
       "4              047     78955.000000\n",
       "..             ...              ...\n",
       "167            992    219944.750000\n",
       "168            993    214095.000000\n",
       "169            994    192890.000000\n",
       "170            995    267903.000000\n",
       "171            99P    296167.000000\n",
       "\n",
       "[172 rows x 2 columns]"
      ]
     },
     "execution_count": 38,
     "metadata": {},
     "output_type": "execute_result"
    }
   ],
   "source": [
    "og_budgeted_salary_df = og_budgeted_salary.reset_index()\n",
    "og_budgeted_salary_df[\"Position Grade\"] = og_budgeted_salary_df[\"Position Grade\"].astype(str)\n",
    "og_budgeted_salary_df = og_budgeted_salary_df.sort_values(\"Position Grade\")\n",
    "og_budgeted_salary_df"
   ]
  },
  {
   "cell_type": "code",
   "execution_count": 39,
   "metadata": {},
   "outputs": [],
   "source": [
    "salary_data = {\n",
    "    'Position Grade': [(s.split(\":\")[0]) for s in pgs_max],\n",
    "    'Optimized Salaries': [float(s.split(\":\")[1]) for s in pgs_max],\n",
    "    'Normalized Salaries': [float(s.split(\":\")[1]) for s in normalized_salaries_list]\n",
    "    \n",
    "}\n",
    "\n",
    "salaries_df = pd.DataFrame(salary_data)\n",
    "salaries_df['Position Grade'] = salaries_df['Position Grade'].str.extract(r'(\\d+)')\n",
    "salaries_df['Position Grade'] = salaries_df['Position Grade'].astype(str)\n",
    "\n",
    "\n",
    "#\"Original Salaries\" : og_budgeted_salary_df[\"Budgeted Salary\"].round(),\n",
    "   # \"OG pg\" : og_budgeted_salary_df[\"Position Grade\"]\n",
    "\n",
    "salaries_df = salaries_df.sort_values(\"Position Grade\")\n",
    "salaries_df = salaries_df.reset_index()\n",
    "salaries_df = salaries_df[[\"Position Grade\", \"Optimized Salaries\", \"Normalized Salaries\"]]"
   ]
  },
  {
   "cell_type": "code",
   "execution_count": 40,
   "metadata": {},
   "outputs": [
    {
     "data": {
      "text/html": [
       "<div>\n",
       "<style scoped>\n",
       "    .dataframe tbody tr th:only-of-type {\n",
       "        vertical-align: middle;\n",
       "    }\n",
       "\n",
       "    .dataframe tbody tr th {\n",
       "        vertical-align: top;\n",
       "    }\n",
       "\n",
       "    .dataframe thead th {\n",
       "        text-align: right;\n",
       "    }\n",
       "</style>\n",
       "<table border=\"1\" class=\"dataframe\">\n",
       "  <thead>\n",
       "    <tr style=\"text-align: right;\">\n",
       "      <th></th>\n",
       "      <th>Position Grade</th>\n",
       "      <th>Optimized Salaries</th>\n",
       "      <th>Normalized Salaries</th>\n",
       "      <th>Original Salary</th>\n",
       "    </tr>\n",
       "  </thead>\n",
       "  <tbody>\n",
       "    <tr>\n",
       "      <th>0</th>\n",
       "      <td>030</td>\n",
       "      <td>66281.0</td>\n",
       "      <td>54281.00</td>\n",
       "      <td>54281.0</td>\n",
       "    </tr>\n",
       "    <tr>\n",
       "      <th>1</th>\n",
       "      <td>040</td>\n",
       "      <td>53565.0</td>\n",
       "      <td>48609.00</td>\n",
       "      <td>48609.0</td>\n",
       "    </tr>\n",
       "    <tr>\n",
       "      <th>2</th>\n",
       "      <td>041</td>\n",
       "      <td>56913.0</td>\n",
       "      <td>49813.85</td>\n",
       "      <td>49814.0</td>\n",
       "    </tr>\n",
       "    <tr>\n",
       "      <th>3</th>\n",
       "      <td>042</td>\n",
       "      <td>85561.0</td>\n",
       "      <td>51630.75</td>\n",
       "      <td>51631.0</td>\n",
       "    </tr>\n",
       "    <tr>\n",
       "      <th>4</th>\n",
       "      <td>047</td>\n",
       "      <td>85186.0</td>\n",
       "      <td>78955.00</td>\n",
       "      <td>78955.0</td>\n",
       "    </tr>\n",
       "    <tr>\n",
       "      <th>...</th>\n",
       "      <td>...</td>\n",
       "      <td>...</td>\n",
       "      <td>...</td>\n",
       "      <td>...</td>\n",
       "    </tr>\n",
       "    <tr>\n",
       "      <th>167</th>\n",
       "      <td>991</td>\n",
       "      <td>194658.0</td>\n",
       "      <td>171566.00</td>\n",
       "      <td>219945.0</td>\n",
       "    </tr>\n",
       "    <tr>\n",
       "      <th>168</th>\n",
       "      <td>992</td>\n",
       "      <td>310453.0</td>\n",
       "      <td>219944.75</td>\n",
       "      <td>214095.0</td>\n",
       "    </tr>\n",
       "    <tr>\n",
       "      <th>169</th>\n",
       "      <td>993</td>\n",
       "      <td>254854.0</td>\n",
       "      <td>192250.00</td>\n",
       "      <td>192890.0</td>\n",
       "    </tr>\n",
       "    <tr>\n",
       "      <th>170</th>\n",
       "      <td>994</td>\n",
       "      <td>232300.0</td>\n",
       "      <td>192890.00</td>\n",
       "      <td>267903.0</td>\n",
       "    </tr>\n",
       "    <tr>\n",
       "      <th>171</th>\n",
       "      <td>995</td>\n",
       "      <td>338130.0</td>\n",
       "      <td>267903.00</td>\n",
       "      <td>296167.0</td>\n",
       "    </tr>\n",
       "  </tbody>\n",
       "</table>\n",
       "<p>172 rows × 4 columns</p>\n",
       "</div>"
      ],
      "text/plain": [
       "    Position Grade  Optimized Salaries  Normalized Salaries  Original Salary\n",
       "0              030             66281.0             54281.00          54281.0\n",
       "1              040             53565.0             48609.00          48609.0\n",
       "2              041             56913.0             49813.85          49814.0\n",
       "3              042             85561.0             51630.75          51631.0\n",
       "4              047             85186.0             78955.00          78955.0\n",
       "..             ...                 ...                  ...              ...\n",
       "167            991            194658.0            171566.00         219945.0\n",
       "168            992            310453.0            219944.75         214095.0\n",
       "169            993            254854.0            192250.00         192890.0\n",
       "170            994            232300.0            192890.00         267903.0\n",
       "171            995            338130.0            267903.00         296167.0\n",
       "\n",
       "[172 rows x 4 columns]"
      ]
     },
     "execution_count": 40,
     "metadata": {},
     "output_type": "execute_result"
    }
   ],
   "source": [
    "salaries_df[\"Original Salary\"] = og_budgeted_salary_df[\"Budgeted Salary\"].round()\n",
    "\n",
    "salaries_df"
   ]
  },
  {
   "cell_type": "code",
   "execution_count": 41,
   "metadata": {},
   "outputs": [
    {
     "data": {
      "text/html": [
       "<div>\n",
       "<style scoped>\n",
       "    .dataframe tbody tr th:only-of-type {\n",
       "        vertical-align: middle;\n",
       "    }\n",
       "\n",
       "    .dataframe tbody tr th {\n",
       "        vertical-align: top;\n",
       "    }\n",
       "\n",
       "    .dataframe thead th {\n",
       "        text-align: right;\n",
       "    }\n",
       "</style>\n",
       "<table border=\"1\" class=\"dataframe\">\n",
       "  <thead>\n",
       "    <tr style=\"text-align: right;\">\n",
       "      <th></th>\n",
       "      <th>Optimized Salaries</th>\n",
       "      <th>Normalized Salaries</th>\n",
       "      <th>Original Salary</th>\n",
       "    </tr>\n",
       "  </thead>\n",
       "  <tbody>\n",
       "    <tr>\n",
       "      <th>count</th>\n",
       "      <td>172.000000</td>\n",
       "      <td>172.000000</td>\n",
       "      <td>172.000000</td>\n",
       "    </tr>\n",
       "    <tr>\n",
       "      <th>mean</th>\n",
       "      <td>118096.720930</td>\n",
       "      <td>78397.627965</td>\n",
       "      <td>83706.627907</td>\n",
       "    </tr>\n",
       "    <tr>\n",
       "      <th>std</th>\n",
       "      <td>75887.108022</td>\n",
       "      <td>54513.418582</td>\n",
       "      <td>54838.147132</td>\n",
       "    </tr>\n",
       "    <tr>\n",
       "      <th>min</th>\n",
       "      <td>8976.000000</td>\n",
       "      <td>0.000000</td>\n",
       "      <td>8312.000000</td>\n",
       "    </tr>\n",
       "    <tr>\n",
       "      <th>25%</th>\n",
       "      <td>57236.250000</td>\n",
       "      <td>44304.530000</td>\n",
       "      <td>44591.500000</td>\n",
       "    </tr>\n",
       "    <tr>\n",
       "      <th>50%</th>\n",
       "      <td>95396.500000</td>\n",
       "      <td>65023.930000</td>\n",
       "      <td>68682.500000</td>\n",
       "    </tr>\n",
       "    <tr>\n",
       "      <th>75%</th>\n",
       "      <td>161837.500000</td>\n",
       "      <td>90098.247500</td>\n",
       "      <td>97055.000000</td>\n",
       "    </tr>\n",
       "    <tr>\n",
       "      <th>max</th>\n",
       "      <td>432645.000000</td>\n",
       "      <td>296167.000000</td>\n",
       "      <td>296167.000000</td>\n",
       "    </tr>\n",
       "  </tbody>\n",
       "</table>\n",
       "</div>"
      ],
      "text/plain": [
       "       Optimized Salaries  Normalized Salaries  Original Salary\n",
       "count          172.000000           172.000000       172.000000\n",
       "mean        118096.720930         78397.627965     83706.627907\n",
       "std          75887.108022         54513.418582     54838.147132\n",
       "min           8976.000000             0.000000      8312.000000\n",
       "25%          57236.250000         44304.530000     44591.500000\n",
       "50%          95396.500000         65023.930000     68682.500000\n",
       "75%         161837.500000         90098.247500     97055.000000\n",
       "max         432645.000000        296167.000000    296167.000000"
      ]
     },
     "execution_count": 41,
     "metadata": {},
     "output_type": "execute_result"
    }
   ],
   "source": [
    "salaries_df.describe()"
   ]
  },
  {
   "cell_type": "code",
   "execution_count": 42,
   "metadata": {},
   "outputs": [
    {
     "name": "stdout",
     "output_type": "stream",
     "text": [
      "Total Cost Maximized Salaries: 20312636.0 Total Cost Normalized Salaries: 13484392.01 Total Cost Original Salaries: 14397540.0\n"
     ]
    }
   ],
   "source": [
    "otc = sum(salaries_df[\"Optimized Salaries\"])\n",
    "ntc = sum(salaries_df[\"Normalized Salaries\"])\n",
    "ogtc = sum(salaries_df[\"Original Salary\"])\n",
    "\n",
    "print(\"Total Cost Maximized Salaries:\", otc,\n",
    "      \"Total Cost Normalized Salaries:\", ntc,\n",
    "      \"Total Cost Original Salaries:\", ogtc)"
   ]
  },
  {
   "cell_type": "code",
   "execution_count": null,
   "metadata": {},
   "outputs": [],
   "source": []
  }
 ],
 "metadata": {
  "kernelspec": {
   "display_name": "Python 3.10.2 64-bit",
   "language": "python",
   "name": "python3"
  },
  "language_info": {
   "codemirror_mode": {
    "name": "ipython",
    "version": 3
   },
   "file_extension": ".py",
   "mimetype": "text/x-python",
   "name": "python",
   "nbconvert_exporter": "python",
   "pygments_lexer": "ipython3",
   "version": "3.10.2"
  },
  "orig_nbformat": 4,
  "vscode": {
   "interpreter": {
    "hash": "aee8b7b246df8f9039afb4144a1f6fd8d2ca17a180786b69acc140d282b71a49"
   }
  }
 },
 "nbformat": 4,
 "nbformat_minor": 2
}
